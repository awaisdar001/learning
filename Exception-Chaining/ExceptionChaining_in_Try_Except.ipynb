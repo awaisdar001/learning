{
 "cells": [
  {
   "cell_type": "markdown",
   "id": "hollow-separate",
   "metadata": {},
   "source": [
    "#### 24th Feb, 2021"
   ]
  },
  {
   "cell_type": "markdown",
   "id": "regulation-spanking",
   "metadata": {},
   "source": [
    "### Exception Chaining & Effect of return in Try/Except/Finally/Else"
   ]
  },
  {
   "cell_type": "code",
   "execution_count": 4,
   "id": "coastal-milan",
   "metadata": {},
   "outputs": [],
   "source": [
    "def bool_return():\n",
    "     try:\n",
    "         return True\n",
    "     finally:\n",
    "         print(\"[finally]: I am not returning anything.\")"
   ]
  },
  {
   "cell_type": "code",
   "execution_count": 5,
   "id": "alternate-america",
   "metadata": {},
   "outputs": [
    {
     "name": "stdout",
     "output_type": "stream",
     "text": [
      "[finally]: I am not returning anything.\n"
     ]
    },
    {
     "data": {
      "text/plain": [
       "True"
      ]
     },
     "execution_count": 5,
     "metadata": {},
     "output_type": "execute_result"
    }
   ],
   "source": [
    "bool_return()"
   ]
  },
  {
   "cell_type": "code",
   "execution_count": 6,
   "id": "universal-commerce",
   "metadata": {},
   "outputs": [],
   "source": [
    "def bool_return():\n",
    "     try:\n",
    "         return 100\n",
    "     finally:\n",
    "         print(\"[finally]: I am not returning anything.\")"
   ]
  },
  {
   "cell_type": "code",
   "execution_count": 7,
   "id": "abstract-platform",
   "metadata": {},
   "outputs": [
    {
     "name": "stdout",
     "output_type": "stream",
     "text": [
      "[finally]: I am not returning anything.\n"
     ]
    },
    {
     "data": {
      "text/plain": [
       "100"
      ]
     },
     "execution_count": 7,
     "metadata": {},
     "output_type": "execute_result"
    }
   ],
   "source": [
    "bool_return()"
   ]
  },
  {
   "cell_type": "code",
   "execution_count": 8,
   "id": "signed-spanking",
   "metadata": {},
   "outputs": [],
   "source": [
    "empty_data_set = []"
   ]
  },
  {
   "cell_type": "code",
   "execution_count": 12,
   "id": "impaired-initial",
   "metadata": {},
   "outputs": [],
   "source": [
    "def int_return():\n",
    "     try:\n",
    "         return empty_data_set.pop()\n",
    "     except IndexError as ex:\n",
    "        raise RuntimeError from ex\n",
    "     finally:\n",
    "         print(\"=> [finally]: I am here.\")\n",
    "         return 50"
   ]
  },
  {
   "cell_type": "code",
   "execution_count": 13,
   "id": "engaging-distributor",
   "metadata": {},
   "outputs": [
    {
     "name": "stdout",
     "output_type": "stream",
     "text": [
      "=> [finally]: I am here.\n"
     ]
    },
    {
     "data": {
      "text/plain": [
       "50"
      ]
     },
     "execution_count": 13,
     "metadata": {},
     "output_type": "execute_result"
    }
   ],
   "source": [
    "int_return()"
   ]
  },
  {
   "cell_type": "code",
   "execution_count": 14,
   "id": "latter-sarah",
   "metadata": {},
   "outputs": [],
   "source": [
    "# Thing to note here is that exception has not been throwen. "
   ]
  },
  {
   "cell_type": "code",
   "execution_count": 17,
   "id": "saved-applicant",
   "metadata": {},
   "outputs": [],
   "source": [
    "def int_return():\n",
    "     try:\n",
    "         return empty_data_set.pop()\n",
    "     except IndexError as ex:\n",
    "        raise RuntimeError(\"Give me exception Chaning Effect\") from ex"
   ]
  },
  {
   "cell_type": "code",
   "execution_count": 18,
   "id": "marine-albert",
   "metadata": {},
   "outputs": [
    {
     "ename": "RuntimeError",
     "evalue": "Give me exception Chaning Effect",
     "output_type": "error",
     "traceback": [
      "\u001b[0;31m---------------------------------------------------------------------------\u001b[0m",
      "\u001b[0;31mIndexError\u001b[0m                                Traceback (most recent call last)",
      "\u001b[0;32m<ipython-input-17-2ef0548cf1c1>\u001b[0m in \u001b[0;36mint_return\u001b[0;34m()\u001b[0m\n\u001b[1;32m      2\u001b[0m      \u001b[0;32mtry\u001b[0m\u001b[0;34m:\u001b[0m\u001b[0;34m\u001b[0m\u001b[0;34m\u001b[0m\u001b[0m\n\u001b[0;32m----> 3\u001b[0;31m          \u001b[0;32mreturn\u001b[0m \u001b[0mempty_data_set\u001b[0m\u001b[0;34m.\u001b[0m\u001b[0mpop\u001b[0m\u001b[0;34m(\u001b[0m\u001b[0;34m)\u001b[0m\u001b[0;34m\u001b[0m\u001b[0;34m\u001b[0m\u001b[0m\n\u001b[0m\u001b[1;32m      4\u001b[0m      \u001b[0;32mexcept\u001b[0m \u001b[0mIndexError\u001b[0m \u001b[0;32mas\u001b[0m \u001b[0mex\u001b[0m\u001b[0;34m:\u001b[0m\u001b[0;34m\u001b[0m\u001b[0;34m\u001b[0m\u001b[0m\n",
      "\u001b[0;31mIndexError\u001b[0m: pop from empty list",
      "\nThe above exception was the direct cause of the following exception:\n",
      "\u001b[0;31mRuntimeError\u001b[0m                              Traceback (most recent call last)",
      "\u001b[0;32m<ipython-input-18-3a2f0de5aec6>\u001b[0m in \u001b[0;36m<module>\u001b[0;34m\u001b[0m\n\u001b[0;32m----> 1\u001b[0;31m \u001b[0mint_return\u001b[0m\u001b[0;34m(\u001b[0m\u001b[0;34m)\u001b[0m\u001b[0;34m\u001b[0m\u001b[0;34m\u001b[0m\u001b[0m\n\u001b[0m",
      "\u001b[0;32m<ipython-input-17-2ef0548cf1c1>\u001b[0m in \u001b[0;36mint_return\u001b[0;34m()\u001b[0m\n\u001b[1;32m      3\u001b[0m          \u001b[0;32mreturn\u001b[0m \u001b[0mempty_data_set\u001b[0m\u001b[0;34m.\u001b[0m\u001b[0mpop\u001b[0m\u001b[0;34m(\u001b[0m\u001b[0;34m)\u001b[0m\u001b[0;34m\u001b[0m\u001b[0;34m\u001b[0m\u001b[0m\n\u001b[1;32m      4\u001b[0m      \u001b[0;32mexcept\u001b[0m \u001b[0mIndexError\u001b[0m \u001b[0;32mas\u001b[0m \u001b[0mex\u001b[0m\u001b[0;34m:\u001b[0m\u001b[0;34m\u001b[0m\u001b[0;34m\u001b[0m\u001b[0m\n\u001b[0;32m----> 5\u001b[0;31m         \u001b[0;32mraise\u001b[0m \u001b[0mRuntimeError\u001b[0m\u001b[0;34m(\u001b[0m\u001b[0;34m\"Give me exception Chaning Effect\"\u001b[0m\u001b[0;34m)\u001b[0m \u001b[0;32mfrom\u001b[0m \u001b[0mex\u001b[0m\u001b[0;34m\u001b[0m\u001b[0;34m\u001b[0m\u001b[0m\n\u001b[0m",
      "\u001b[0;31mRuntimeError\u001b[0m: Give me exception Chaning Effect"
     ]
    }
   ],
   "source": [
    "int_return()"
   ]
  },
  {
   "cell_type": "code",
   "execution_count": 19,
   "id": "seven-landscape",
   "metadata": {},
   "outputs": [],
   "source": [
    "def divide(x, y):\n",
    "     try:\n",
    "         result = x / y\n",
    "     except ZeroDivisionError:\n",
    "         print(\"division by zero!\")\n",
    "     else:\n",
    "         print(\"result is\", result)\n",
    "     finally:\n",
    "         print(\"executing finally clause\")"
   ]
  },
  {
   "cell_type": "code",
   "execution_count": 20,
   "id": "enabling-steps",
   "metadata": {},
   "outputs": [
    {
     "name": "stdout",
     "output_type": "stream",
     "text": [
      "result is 2.0\n",
      "executing finally clause\n"
     ]
    }
   ],
   "source": [
    "divide(2, 1)"
   ]
  },
  {
   "cell_type": "code",
   "execution_count": 21,
   "id": "professional-story",
   "metadata": {},
   "outputs": [
    {
     "name": "stdout",
     "output_type": "stream",
     "text": [
      "division by zero!\n",
      "executing finally clause\n"
     ]
    }
   ],
   "source": [
    "divide(2,0)"
   ]
  },
  {
   "cell_type": "markdown",
   "id": "available-metabolism",
   "metadata": {},
   "source": [
    "### Except Clause : only executes when there is an exception in try block\n",
    "\n",
    "### Else clause: Only executes when there is no exception in try block\n",
    "\n",
    "### Finally: always executes"
   ]
  },
  {
   "cell_type": "code",
   "execution_count": 22,
   "id": "verified-bennett",
   "metadata": {},
   "outputs": [],
   "source": [
    "def divide(x, y):\n",
    "     try:\n",
    "         result = x / y\n",
    "     except ZeroDivisionError as ex:\n",
    "         print(\"division by zero!\")\n",
    "         raise RuntimeError(f\"Error in Runtime {y}\")\n",
    "     else:\n",
    "         print(\"result is\", result)\n",
    "     finally:\n",
    "         print(\"executing finally clause\")"
   ]
  },
  {
   "cell_type": "code",
   "execution_count": 23,
   "id": "fitted-seafood",
   "metadata": {},
   "outputs": [
    {
     "name": "stdout",
     "output_type": "stream",
     "text": [
      "division by zero!\n",
      "executing finally clause\n"
     ]
    },
    {
     "ename": "RuntimeError",
     "evalue": "Error in Runtime 0",
     "output_type": "error",
     "traceback": [
      "\u001b[0;31m---------------------------------------------------------------------------\u001b[0m",
      "\u001b[0;31mZeroDivisionError\u001b[0m                         Traceback (most recent call last)",
      "\u001b[0;32m<ipython-input-22-54eaa32eb33a>\u001b[0m in \u001b[0;36mdivide\u001b[0;34m(x, y)\u001b[0m\n\u001b[1;32m      2\u001b[0m      \u001b[0;32mtry\u001b[0m\u001b[0;34m:\u001b[0m\u001b[0;34m\u001b[0m\u001b[0;34m\u001b[0m\u001b[0m\n\u001b[0;32m----> 3\u001b[0;31m          \u001b[0mresult\u001b[0m \u001b[0;34m=\u001b[0m \u001b[0mx\u001b[0m \u001b[0;34m/\u001b[0m \u001b[0my\u001b[0m\u001b[0;34m\u001b[0m\u001b[0;34m\u001b[0m\u001b[0m\n\u001b[0m\u001b[1;32m      4\u001b[0m      \u001b[0;32mexcept\u001b[0m \u001b[0mZeroDivisionError\u001b[0m \u001b[0;32mas\u001b[0m \u001b[0mex\u001b[0m\u001b[0;34m:\u001b[0m\u001b[0;34m\u001b[0m\u001b[0;34m\u001b[0m\u001b[0m\n",
      "\u001b[0;31mZeroDivisionError\u001b[0m: division by zero",
      "\nDuring handling of the above exception, another exception occurred:\n",
      "\u001b[0;31mRuntimeError\u001b[0m                              Traceback (most recent call last)",
      "\u001b[0;32m<ipython-input-23-030e2eec799d>\u001b[0m in \u001b[0;36m<module>\u001b[0;34m\u001b[0m\n\u001b[0;32m----> 1\u001b[0;31m \u001b[0mdivide\u001b[0m\u001b[0;34m(\u001b[0m\u001b[0;36m2\u001b[0m\u001b[0;34m,\u001b[0m\u001b[0;36m0\u001b[0m\u001b[0;34m)\u001b[0m\u001b[0;34m\u001b[0m\u001b[0;34m\u001b[0m\u001b[0m\n\u001b[0m",
      "\u001b[0;32m<ipython-input-22-54eaa32eb33a>\u001b[0m in \u001b[0;36mdivide\u001b[0;34m(x, y)\u001b[0m\n\u001b[1;32m      4\u001b[0m      \u001b[0;32mexcept\u001b[0m \u001b[0mZeroDivisionError\u001b[0m \u001b[0;32mas\u001b[0m \u001b[0mex\u001b[0m\u001b[0;34m:\u001b[0m\u001b[0;34m\u001b[0m\u001b[0;34m\u001b[0m\u001b[0m\n\u001b[1;32m      5\u001b[0m          \u001b[0mprint\u001b[0m\u001b[0;34m(\u001b[0m\u001b[0;34m\"division by zero!\"\u001b[0m\u001b[0;34m)\u001b[0m\u001b[0;34m\u001b[0m\u001b[0;34m\u001b[0m\u001b[0m\n\u001b[0;32m----> 6\u001b[0;31m          \u001b[0;32mraise\u001b[0m \u001b[0mRuntimeError\u001b[0m\u001b[0;34m(\u001b[0m\u001b[0;34mf\"Error in Runtime {y}\"\u001b[0m\u001b[0;34m)\u001b[0m\u001b[0;34m\u001b[0m\u001b[0;34m\u001b[0m\u001b[0m\n\u001b[0m\u001b[1;32m      7\u001b[0m      \u001b[0;32melse\u001b[0m\u001b[0;34m:\u001b[0m\u001b[0;34m\u001b[0m\u001b[0;34m\u001b[0m\u001b[0m\n\u001b[1;32m      8\u001b[0m          \u001b[0mprint\u001b[0m\u001b[0;34m(\u001b[0m\u001b[0;34m\"result is\"\u001b[0m\u001b[0;34m,\u001b[0m \u001b[0mresult\u001b[0m\u001b[0;34m)\u001b[0m\u001b[0;34m\u001b[0m\u001b[0;34m\u001b[0m\u001b[0m\n",
      "\u001b[0;31mRuntimeError\u001b[0m: Error in Runtime 0"
     ]
    }
   ],
   "source": [
    "divide(2,0)"
   ]
  },
  {
   "cell_type": "markdown",
   "id": "bibliographic-fruit",
   "metadata": {},
   "source": [
    "##### Let's try returning in try/except/esle/finally blocks."
   ]
  },
  {
   "cell_type": "code",
   "execution_count": 24,
   "id": "cloudy-suicide",
   "metadata": {},
   "outputs": [],
   "source": [
    "def divide(x, y):\n",
    "     try:\n",
    "         return x / y\n",
    "     except ZeroDivisionError as ex:\n",
    "         return -1\n",
    "     else:\n",
    "         return -2\n",
    "     finally:\n",
    "         return -10"
   ]
  },
  {
   "cell_type": "code",
   "execution_count": 25,
   "id": "promising-saturday",
   "metadata": {},
   "outputs": [
    {
     "data": {
      "text/plain": [
       "-10"
      ]
     },
     "execution_count": 25,
     "metadata": {},
     "output_type": "execute_result"
    }
   ],
   "source": [
    "divide(2,2) # what will be the output? -10? let's see"
   ]
  },
  {
   "cell_type": "code",
   "execution_count": 26,
   "id": "swiss-relation",
   "metadata": {},
   "outputs": [],
   "source": [
    "def divide(x, y):\n",
    "     try:\n",
    "         return x / y\n",
    "     except ZeroDivisionError as ex:\n",
    "         return -1\n",
    "     else:\n",
    "         return -2"
   ]
  },
  {
   "cell_type": "code",
   "execution_count": 27,
   "id": "wanted-heaven",
   "metadata": {},
   "outputs": [
    {
     "data": {
      "text/plain": [
       "1.0"
      ]
     },
     "execution_count": 27,
     "metadata": {},
     "output_type": "execute_result"
    }
   ],
   "source": [
    "divide(2,2) # what will be the output? -1? let's see"
   ]
  },
  {
   "cell_type": "code",
   "execution_count": 30,
   "id": "smart-management",
   "metadata": {},
   "outputs": [],
   "source": [
    "def divide(x, y):\n",
    "    result = 0 \n",
    "    try:\n",
    "         result = x / y\n",
    "    except ZeroDivisionError as ex:\n",
    "         return -1\n",
    "    else:\n",
    "        yield -2\n",
    "        yield result"
   ]
  },
  {
   "cell_type": "code",
   "execution_count": 31,
   "id": "convertible-delicious",
   "metadata": {},
   "outputs": [
    {
     "data": {
      "text/plain": [
       "<generator object divide at 0x7f8562f68510>"
      ]
     },
     "execution_count": 31,
     "metadata": {},
     "output_type": "execute_result"
    }
   ],
   "source": [
    "divide(2,2) # what will be the output? -2? let's see"
   ]
  },
  {
   "cell_type": "code",
   "execution_count": 35,
   "id": "general-antique",
   "metadata": {},
   "outputs": [
    {
     "data": {
      "text/plain": [
       "-2"
      ]
     },
     "execution_count": 35,
     "metadata": {},
     "output_type": "execute_result"
    }
   ],
   "source": [
    "div_gen = divide(2,2)\n",
    "next(div_gen)"
   ]
  },
  {
   "cell_type": "code",
   "execution_count": 36,
   "id": "computational-empty",
   "metadata": {},
   "outputs": [
    {
     "data": {
      "text/plain": [
       "1.0"
      ]
     },
     "execution_count": 36,
     "metadata": {},
     "output_type": "execute_result"
    }
   ],
   "source": [
    "next(div_gen)"
   ]
  },
  {
   "cell_type": "code",
   "execution_count": 37,
   "id": "desperate-substance",
   "metadata": {},
   "outputs": [
    {
     "ename": "StopIteration",
     "evalue": "",
     "output_type": "error",
     "traceback": [
      "\u001b[0;31m---------------------------------------------------------------------------\u001b[0m",
      "\u001b[0;31mStopIteration\u001b[0m                             Traceback (most recent call last)",
      "\u001b[0;32m<ipython-input-37-8027e7d03044>\u001b[0m in \u001b[0;36m<module>\u001b[0;34m\u001b[0m\n\u001b[0;32m----> 1\u001b[0;31m \u001b[0mnext\u001b[0m\u001b[0;34m(\u001b[0m\u001b[0mdiv_gen\u001b[0m\u001b[0;34m)\u001b[0m\u001b[0;34m\u001b[0m\u001b[0;34m\u001b[0m\u001b[0m\n\u001b[0m",
      "\u001b[0;31mStopIteration\u001b[0m: "
     ]
    }
   ],
   "source": [
    "next(div_gen)"
   ]
  },
  {
   "cell_type": "code",
   "execution_count": null,
   "id": "drawn-lunch",
   "metadata": {},
   "outputs": [],
   "source": []
  }
 ],
 "metadata": {
  "kernelspec": {
   "display_name": "Python 3",
   "language": "python",
   "name": "python3"
  },
  "language_info": {
   "codemirror_mode": {
    "name": "ipython",
    "version": 3
   },
   "file_extension": ".py",
   "mimetype": "text/x-python",
   "name": "python",
   "nbconvert_exporter": "python",
   "pygments_lexer": "ipython3",
   "version": "3.8.6"
  }
 },
 "nbformat": 4,
 "nbformat_minor": 5
}
