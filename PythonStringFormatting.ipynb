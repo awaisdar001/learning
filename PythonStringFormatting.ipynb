{
 "cells": [
  {
   "cell_type": "markdown",
   "metadata": {},
   "source": [
    "[![Open In Colab](https://colab.research.google.com/assets/colab-badge.svg)](https://colab.research.google.com/github/googlecolab/colabtools/blob/master/notebooks/colab-github-demo.ipynb)\n"
   ]
  },
  {
   "cell_type": "code",
   "execution_count": null,
   "metadata": {},
   "outputs": [],
   "source": [
    "[![Open In Colab](https://colab.research.google.com/assets/colab-badge.svg)](https://colab.research.google.com/github/awaisdar001/learning/blob/master/PythonStringFormatting.ipynb)\n"
   ]
  },
  {
   "cell_type": "markdown",
   "metadata": {},
   "source": [
    "# FORMATTING STRINGS IN PYTHON"
   ]
  },
  {
   "cell_type": "code",
   "execution_count": 1,
   "metadata": {},
   "outputs": [
    {
     "name": "stdout",
     "output_type": "stream",
     "text": [
      "Hi I'm Awais, I'm an engineer. You can call me Forgetful Everything Bagel\n"
     ]
    }
   ],
   "source": [
    "# What's your quarantine nickname?\n",
    "# How you feel + last thing you ate.\n",
    "\n",
    "name = \"Awais\"\n",
    "feeling = \"Forgetful\"\n",
    "food = \"Everything Bagel\"\n",
    "\n",
    "print(\"Hi I'm %s, I'm an engineer. You can call me %s %s\" % (name, feeling, food))"
   ]
  },
  {
   "cell_type": "markdown",
   "metadata": {},
   "source": [
    "What is a string?\n",
    "\n",
    "Pre-Python 3.6"
   ]
  },
  {
   "cell_type": "markdown",
   "metadata": {},
   "source": [
    "### 1) %-Formatting"
   ]
  },
  {
   "cell_type": "markdown",
   "metadata": {},
   "source": [
    "* Uses the modulo operator.\n",
    "* % format specifier is replaced with elements of values.\n",
    "\n",
    "\n"
   ]
  },
  {
   "cell_type": "code",
   "execution_count": 3,
   "metadata": {},
   "outputs": [
    {
     "data": {
      "text/plain": [
       "'one'"
      ]
     },
     "execution_count": 3,
     "metadata": {},
     "output_type": "execute_result"
    }
   ],
   "source": [
    "'%s' % 'one' "
   ]
  },
  {
   "cell_type": "code",
   "execution_count": 4,
   "metadata": {},
   "outputs": [
    {
     "data": {
      "text/plain": [
       "'one'"
      ]
     },
     "execution_count": 4,
     "metadata": {},
     "output_type": "execute_result"
    }
   ],
   "source": [
    "'%s' % ('one',)"
   ]
  },
  {
   "cell_type": "markdown",
   "metadata": {},
   "source": [
    "If more than 1 argument, values must be a tuple with the number of items specified by the format string, or a single mapping object."
   ]
  },
  {
   "cell_type": "code",
   "execution_count": 5,
   "metadata": {},
   "outputs": [
    {
     "data": {
      "text/plain": [
       "'one two'"
      ]
     },
     "execution_count": 5,
     "metadata": {},
     "output_type": "execute_result"
    }
   ],
   "source": [
    "'%s %s' % ('one', 'two')"
   ]
  },
  {
   "cell_type": "code",
   "execution_count": 9,
   "metadata": {},
   "outputs": [
    {
     "data": {
      "text/plain": [
       "'Ali is my friend and he is 28 years old'"
      ]
     },
     "execution_count": 9,
     "metadata": {},
     "output_type": "execute_result"
    }
   ],
   "source": [
    "ali_info = (\"Ali\", \"he\", 28)\n",
    "\"%s is my friend and %s is %s years old\" % ali_info"
   ]
  },
  {
   "cell_type": "markdown",
   "metadata": {},
   "source": [
    "You can use dicts for formatting as well."
   ]
  },
  {
   "cell_type": "code",
   "execution_count": 10,
   "metadata": {},
   "outputs": [
    {
     "data": {
      "text/plain": [
       "'Python has 2 quote types.'"
      ]
     },
     "execution_count": 10,
     "metadata": {},
     "output_type": "execute_result"
    }
   ],
   "source": [
    "'%(language)s has %(number)s quote types.' % {\"language\": \"Python\", \"number\": 2}"
   ]
  },
  {
   "cell_type": "code",
   "execution_count": 15,
   "metadata": {},
   "outputs": [
    {
     "data": {
      "text/plain": [
       "'Python has 2 quote types.'"
      ]
     },
     "execution_count": 15,
     "metadata": {},
     "output_type": "execute_result"
    }
   ],
   "source": [
    "#Use \"d\" to convert a number, in this case a binary number, into decimal number format:\n",
    "\n",
    "'%(language)s has %(number)1d quote types.' % {\"language\": \"Python\", \"number\": 0b10}"
   ]
  },
  {
   "cell_type": "code",
   "execution_count": 28,
   "metadata": {},
   "outputs": [
    {
     "data": {
      "text/plain": [
       "'Python has 23.0 quote types.'"
      ]
     },
     "execution_count": 28,
     "metadata": {},
     "output_type": "execute_result"
    }
   ],
   "source": [
    "'%(language)s has %(number)00.1f quote types.' % {\"language\": \"Python\", \"number\": 23}\n",
    "\n"
   ]
  },
  {
   "cell_type": "markdown",
   "metadata": {},
   "source": [
    "P.S. → %s replaces a string, %f and %g replaces a float (%f with trailing zeroes), %d an integer, %x for hex format."
   ]
  },
  {
   "cell_type": "markdown",
   "metadata": {},
   "source": [
    "Drawbacks 👎\n",
    "* Readability\n",
    "* Also not recommended by Python docs https://docs.python.org/3/library/stdtypes.html#printf-style-string-formatting\n",
    "\n"
   ]
  },
  {
   "cell_type": "code",
   "execution_count": 30,
   "metadata": {},
   "outputs": [
    {
     "data": {
      "text/plain": [
       "\"Hello, I would like a homemade sourdough, with homemade sourdough bread, and roasted red pepper cashew spread, some sliced turkey, don't forget the arugula and the fresh mozzarela, and extra pickles.\""
      ]
     },
     "execution_count": 30,
     "metadata": {},
     "output_type": "execute_result"
    }
   ],
   "source": [
    "order = \"sandwhich\"\n",
    "bread = \"homemade sourdough\"\n",
    "spread = \"roasted red pepper cashew\"\n",
    "meat = \"sliced turkey\"\n",
    "vegetable = \"arugula\"\n",
    "cheese = \"fresh mozzarela\"\n",
    "extras = \"pickles\"\n",
    "\n",
    "\"Hello, I would like a %s, with %s bread, and %s spread, some %s, don't forget the %s and the %s, and extra %s.\" % (bread, bread, spread, meat, vegetable, cheese, extras)"
   ]
  },
  {
   "cell_type": "markdown",
   "metadata": {},
   "source": [
    "Question: Does the order of the variables matter?"
   ]
  },
  {
   "cell_type": "markdown",
   "metadata": {},
   "source": [
    "#### \n",
    "Padding and aligning strings"
   ]
  },
  {
   "cell_type": "code",
   "execution_count": 40,
   "metadata": {},
   "outputs": [
    {
     "data": {
      "text/plain": [
       "'                                              test'"
      ]
     },
     "execution_count": 40,
     "metadata": {},
     "output_type": "execute_result"
    }
   ],
   "source": [
    "# Align right\n",
    "'%50s' % ('test',)\n",
    "# '%s%s'% (' '* 10, 'test')"
   ]
  },
  {
   "cell_type": "code",
   "execution_count": 169,
   "metadata": {},
   "outputs": [],
   "source": [
    "# Align left\n",
    "'%-10s' % ('test',)"
   ]
  },
  {
   "cell_type": "code",
   "execution_count": 43,
   "metadata": {},
   "outputs": [
    {
     "data": {
      "text/plain": [
       "'xyl'"
      ]
     },
     "execution_count": 43,
     "metadata": {},
     "output_type": "execute_result"
    }
   ],
   "source": [
    "# Truncating Strings\n",
    "'%.3s' % ('xylophone',)"
   ]
  },
  {
   "cell_type": "code",
   "execution_count": 44,
   "metadata": {},
   "outputs": [
    {
     "data": {
      "text/plain": [
       "'xylop     '"
      ]
     },
     "execution_count": 44,
     "metadata": {},
     "output_type": "execute_result"
    }
   ],
   "source": [
    "# Combining truncating and padding\n",
    "'%-10.5s' % ('xylophone',)"
   ]
  },
  {
   "cell_type": "markdown",
   "metadata": {},
   "source": [
    "### 1) str.format()"
   ]
  },
  {
   "cell_type": "markdown",
   "metadata": {},
   "source": [
    "The replacement fields are marked by { }, calls .format() on a string object.\n",
    "\n"
   ]
  },
  {
   "cell_type": "code",
   "execution_count": 45,
   "metadata": {},
   "outputs": [
    {
     "data": {
      "text/plain": [
       "'one'"
      ]
     },
     "execution_count": 45,
     "metadata": {},
     "output_type": "execute_result"
    }
   ],
   "source": [
    "'{}'.format('one')"
   ]
  },
  {
   "cell_type": "code",
   "execution_count": 46,
   "metadata": {},
   "outputs": [
    {
     "data": {
      "text/plain": [
       "'one two'"
      ]
     },
     "execution_count": 46,
     "metadata": {},
     "output_type": "execute_result"
    }
   ],
   "source": [
    "'{} {}'.format('one', 'two')"
   ]
  },
  {
   "cell_type": "code",
   "execution_count": 53,
   "metadata": {},
   "outputs": [
    {
     "data": {
      "text/plain": [
       "'Ali is my friend and he 28 is years old'"
      ]
     },
     "execution_count": 53,
     "metadata": {},
     "output_type": "execute_result"
    }
   ],
   "source": [
    "ali_info = (\"Ali\", \"he\", 28)\n",
    "\"{0} is my friend and {1} {2} is years old\".format(*ali_info)"
   ]
  },
  {
   "cell_type": "markdown",
   "metadata": {},
   "source": [
    "**You can use dicts for formatting as well.**"
   ]
  },
  {
   "cell_type": "code",
   "execution_count": 55,
   "metadata": {},
   "outputs": [
    {
     "data": {
      "text/plain": [
       "'Python has 2 quote types.'"
      ]
     },
     "execution_count": 55,
     "metadata": {},
     "output_type": "execute_result"
    }
   ],
   "source": [
    "'{language} has {number} quote types.'.format(language= \"Python\", number= 2)\n",
    "# d = {'language': \"Python\", 'number': 2, 'name': 'aswa'}\n",
    "# '{language} has {number} quote types.'.format(**d)\n",
    "\n",
    "'{language} has {number} quote types.'.format(language= \"Python\", number= 2)"
   ]
  },
  {
   "cell_type": "code",
   "execution_count": 56,
   "metadata": {},
   "outputs": [
    {
     "data": {
      "text/plain": [
       "'Python has 2 quote types.'"
      ]
     },
     "execution_count": 56,
     "metadata": {},
     "output_type": "execute_result"
    }
   ],
   "source": [
    "#Use \"d\" to convert a number, in this case a binary number, into decimal number format:\n",
    "'{language} has {number:d} quote types.'.format(language= \"Python\", number=0b10)"
   ]
  },
  {
   "cell_type": "code",
   "execution_count": 58,
   "metadata": {},
   "outputs": [
    {
     "data": {
      "text/plain": [
       "'Python has 2.89 quote types.'"
      ]
     },
     "execution_count": 58,
     "metadata": {},
     "output_type": "execute_result"
    }
   ],
   "source": [
    "# Use \"f\" to convert a number into a fixed point number, default with 6 decimals, \n",
    "# but use a period followed by a number to specify the number of decimals:\n",
    "\n",
    "'{language} has {number:.2f} quote types.'.format(language= \"Python\", number=2.888)"
   ]
  },
  {
   "cell_type": "code",
   "execution_count": 61,
   "metadata": {},
   "outputs": [
    {
     "data": {
      "text/plain": [
       "'Off from work: 11.32%'"
      ]
     },
     "execution_count": 61,
     "metadata": {},
     "output_type": "execute_result"
    }
   ],
   "source": [
    "pto = 30\n",
    "workdays = 265\n",
    "'Off from work: {:.2%}'.format(pto/workdays)"
   ]
  },
  {
   "cell_type": "code",
   "execution_count": 64,
   "metadata": {},
   "outputs": [
    {
     "data": {
      "text/plain": [
       "'The temperature is between -3 and +7 degrees celsius.'"
      ]
     },
     "execution_count": 64,
     "metadata": {},
     "output_type": "execute_result"
    }
   ],
   "source": [
    "# Use \"+\" to always indicate if the number is positive or negative:\n",
    "\"The temperature is between {:+} and {:+} degrees celsius.\".format(-3, 7)\n",
    "\n"
   ]
  },
  {
   "cell_type": "code",
   "execution_count": 65,
   "metadata": {},
   "outputs": [
    {
     "data": {
      "text/plain": [
       "'The temperature is between -3 and 7 degrees celsius.'"
      ]
     },
     "execution_count": 65,
     "metadata": {},
     "output_type": "execute_result"
    }
   ],
   "source": [
    "# Use a minus sign for negative values only\n",
    "\"The temperature is between {:-} and {:-} degrees celsius.\".format(-3, 7)"
   ]
  },
  {
   "cell_type": "code",
   "execution_count": 66,
   "metadata": {},
   "outputs": [
    {
     "data": {
      "text/plain": [
       "'1,000,000'"
      ]
     },
     "execution_count": 66,
     "metadata": {},
     "output_type": "execute_result"
    }
   ],
   "source": [
    "'{:,}'.format(1000000)"
   ]
  },
  {
   "cell_type": "markdown",
   "metadata": {},
   "source": [
    "**Text aligning:**"
   ]
  },
  {
   "cell_type": "markdown",
   "metadata": {},
   "source": [
    "To demonstrate, we insert the number 50 to set the available space for the value to 50 characters."
   ]
  },
  {
   "cell_type": "code",
   "execution_count": 67,
   "metadata": {},
   "outputs": [
    {
     "data": {
      "text/plain": [
       "'left                                              '"
      ]
     },
     "execution_count": 67,
     "metadata": {},
     "output_type": "execute_result"
    }
   ],
   "source": [
    "#Use \"<\" to left-align the value:\n",
    "\n",
    "'{:<50}'.format('left')\n"
   ]
  },
  {
   "cell_type": "code",
   "execution_count": 68,
   "metadata": {},
   "outputs": [
    {
     "data": {
      "text/plain": [
       "'                                             right'"
      ]
     },
     "execution_count": 68,
     "metadata": {},
     "output_type": "execute_result"
    }
   ],
   "source": [
    "#Use \">\" to right-align the value:\n",
    "\n",
    "'{:>50}'.format('right')"
   ]
  },
  {
   "cell_type": "code",
   "execution_count": 69,
   "metadata": {},
   "outputs": [
    {
     "data": {
      "text/plain": [
       "'                     centered                     '"
      ]
     },
     "execution_count": 69,
     "metadata": {},
     "output_type": "execute_result"
    }
   ],
   "source": [
    "'{:^50}'.format('centered')"
   ]
  },
  {
   "cell_type": "markdown",
   "metadata": {},
   "source": [
    " 📌Neat tricks:"
   ]
  },
  {
   "cell_type": "code",
   "execution_count": 105,
   "metadata": {},
   "outputs": [
    {
     "data": {
      "text/plain": [
       "\"Today is Thrusday. And that means it's a good day to go to SAT Session!\""
      ]
     },
     "execution_count": 105,
     "metadata": {},
     "output_type": "execute_result"
    }
   ],
   "source": [
    "activity = {'day': 'Thrusday', 'session':'SAT Session', 'asdf': 'asdfdasdf'}\n",
    "# \"Today is {day}. And that means it's a good day to go to {session}!\".format(**activity)\n",
    "\n",
    "\n",
    "\"Today is {day}. And that means it's a good day to go to {session}!\".format_map(activity)"
   ]
  },
  {
   "cell_type": "markdown",
   "metadata": {},
   "source": [
    "**Call Functions**"
   ]
  },
  {
   "cell_type": "code",
   "execution_count": null,
   "metadata": {
    "scrolled": true
   },
   "outputs": [],
   "source": [
    "locals()"
   ]
  },
  {
   "cell_type": "code",
   "execution_count": 70,
   "metadata": {},
   "outputs": [
    {
     "data": {
      "text/plain": [
       "'My name is Awais'"
      ]
     },
     "execution_count": 70,
     "metadata": {},
     "output_type": "execute_result"
    }
   ],
   "source": [
    "'My name is {name}'.format(**locals())"
   ]
  },
  {
   "cell_type": "code",
   "execution_count": 189,
   "metadata": {},
   "outputs": [],
   "source": [
    "# Similar to str.format(**mapping), except that mapping is used directly \n",
    "# and not copied to a dict. This is useful if for example mapping is a dict subclass:\n",
    "\n",
    "'My name is {name}'.format_map(locals())"
   ]
  },
  {
   "cell_type": "markdown",
   "metadata": {},
   "source": [
    "Why it can be BAD? 👎\n",
    "\n",
    "Readability is improved but can still be cumbersome with multiple parameters and super long strings."
   ]
  },
  {
   "cell_type": "code",
   "execution_count": 190,
   "metadata": {},
   "outputs": [],
   "source": [
    "order = \"sandwhich\" \n",
    "bread = \"Ben Holt's homemade sourdough\"\n",
    "spread = \"roasted red pepper cashew\"\n",
    "meat = \"sliced turkey\"\n",
    "vegetable = \"arugula\"\n",
    "cheese = \"fresh mozzarela\"\n",
    "extras = \"pickles\"\n",
    "\n",
    "\"Hello, I would like a {order}, with {bread} bread, and {spread} spread, some {meat}, don't forget the {cheese} and the {vegetable}, and extra {extras}.\".format(order=order, bread=bread, spread=spread, meat=meat, cheese=cheese, vegetable=vegetable, extras=extras)"
   ]
  },
  {
   "cell_type": "markdown",
   "metadata": {},
   "source": [
    "\n",
    "THERE'S GOT TO BE A BETTER WAY TO DO THIS! 🧐\n",
    "\n",
    "**Post Python 3.6**"
   ]
  },
  {
   "cell_type": "markdown",
   "metadata": {},
   "source": [
    "### 3) f-strings\n",
    "(aka formatted string literals)"
   ]
  },
  {
   "cell_type": "markdown",
   "metadata": {},
   "source": [
    "Use an f at the beginning and curly braces containing expressions that will be replaced with their values."
   ]
  },
  {
   "cell_type": "markdown",
   "metadata": {},
   "source": [
    "👍Why it can be GOOD?\n",
    "\n",
    "* More readable.\n",
    "* Less prone to error."
   ]
  },
  {
   "cell_type": "code",
   "execution_count": 71,
   "metadata": {},
   "outputs": [
    {
     "data": {
      "text/plain": [
       "'Today is Tuesday, June 4.'"
      ]
     },
     "execution_count": 71,
     "metadata": {},
     "output_type": "execute_result"
    }
   ],
   "source": [
    "day = \"Tuesday\"\n",
    "date = \"June 4\"\n",
    "\n",
    "f\"Today is {day}, {date}.\""
   ]
  },
  {
   "cell_type": "markdown",
   "metadata": {},
   "source": [
    "Evaluated at runtime (can put Python expressions and call functions!)\n"
   ]
  },
  {
   "cell_type": "code",
   "execution_count": 72,
   "metadata": {},
   "outputs": [
    {
     "data": {
      "text/plain": [
       "\"Loud and clear: DON'T GIVE UP\""
      ]
     },
     "execution_count": 72,
     "metadata": {},
     "output_type": "execute_result"
    }
   ],
   "source": [
    "def say_something_loudly(input):\n",
    "  return input.upper()\n",
    "\n",
    "input = \"Don't give up\"\n",
    "f\"Loud and clear: {say_something_loudly(input)}\""
   ]
  },
  {
   "cell_type": "code",
   "execution_count": 73,
   "metadata": {},
   "outputs": [
    {
     "data": {
      "text/plain": [
       "\"Hi my name is Awais. I'm an engineer in Sustaining.\""
      ]
     },
     "execution_count": 73,
     "metadata": {},
     "output_type": "execute_result"
    }
   ],
   "source": [
    "name = \"Awais\"\n",
    "team = \"Sustaining\"\n",
    "intro = (\n",
    "    f\"Hi my name is {name}. \"\n",
    "    f\"I'm an engineer in {team}.\"\n",
    ")\n",
    "\n",
    "intro"
   ]
  },
  {
   "cell_type": "markdown",
   "metadata": {},
   "source": [
    "Multiline strings (Also preserves the whitespaces around the string)"
   ]
  },
  {
   "cell_type": "code",
   "execution_count": 77,
   "metadata": {},
   "outputs": [
    {
     "data": {
      "text/plain": [
       "'Hi my name is Awais\\nI am an engineer in Sustaining'"
      ]
     },
     "execution_count": 77,
     "metadata": {},
     "output_type": "execute_result"
    }
   ],
   "source": [
    "name = \"Awais\"\n",
    "team = \"Sustaining\"\n",
    "multiline_str = f\"\"\"\n",
    "Hi my name is {name}\n",
    "I am an engineer in {team}\n",
    "\"\"\"\n",
    "f'{multiline_str.strip()}'"
   ]
  },
  {
   "cell_type": "markdown",
   "metadata": {},
   "source": [
    "Faster 🏃‍♀"
   ]
  },
  {
   "cell_type": "code",
   "execution_count": 111,
   "metadata": {
    "scrolled": true
   },
   "outputs": [
    {
     "name": "stdout",
     "output_type": "stream",
     "text": [
      "Time in %-formatting: 2.7240 ms\n",
      "Time in .format(): 3.6173 ms\n",
      "Time in .format_map(): 4.3693 ms\n",
      "Time in .format**(): 4.1685 ms\n",
      "Time in f-string: 1.1220 ms\n"
     ]
    }
   ],
   "source": [
    "import timeit\n",
    "\n",
    "variables = \"\"\"\n",
    "day = \"Tuesday\"\n",
    "date = \"June 4\"\n",
    "d = {'a': 'b', 'b': 'c', 'e': 'f', 'g': 1, 'h': 1}\n",
    "\"\"\"\n",
    "modulo_operator = \"'Today is %s, %s.' % (day, date)\"\n",
    "dot_format = \"'Today is {}, {}.'.format(day, date)\"\n",
    "dot_format2 = \"'Today is {a}, {b}.'.format_map(d)\"\n",
    "dot_format3 = \"'Today is {a}, {b}.'.format(**d)\"\n",
    "f_string = \"f'Today is {day}, {date}.'\"\n",
    "\n",
    "\n",
    "def get_time(formatting):\n",
    "  return timeit.timeit(formatting, variables, number=10000) * 1000\n",
    "\n",
    "print(f'Time in %-formatting: {get_time(modulo_operator):.4f} ms')\n",
    "print(f'Time in .format(): {get_time(dot_format):.4f} ms')\n",
    "print(f'Time in .format_map(): {get_time(dot_format2):.4f} ms')\n",
    "print(f'Time in .format**(): {get_time(dot_format2):.4f} ms')\n",
    "print(f'Time in f-string: {get_time(f_string):.4f} ms')\n"
   ]
  },
  {
   "cell_type": "markdown",
   "metadata": {},
   "source": [
    "Dowsides? 👎\n",
    "Once objects are passed in, if getting string from an user, could have malicious code inserted in the expression with Python functions.\n",
    "\n",
    "\n"
   ]
  },
  {
   "cell_type": "markdown",
   "metadata": {},
   "source": [
    "Quotes matter.\n"
   ]
  },
  {
   "cell_type": "code",
   "execution_count": 136,
   "metadata": {},
   "outputs": [
    {
     "data": {
      "text/plain": [
       "'Hello'"
      ]
     },
     "execution_count": 136,
     "metadata": {},
     "output_type": "execute_result"
    }
   ],
   "source": [
    "f\"{'Hello'}\""
   ]
  },
  {
   "cell_type": "code",
   "execution_count": null,
   "metadata": {},
   "outputs": [],
   "source": [
    "f\"{\"Hello\"}\""
   ]
  },
  {
   "cell_type": "code",
   "execution_count": 89,
   "metadata": {},
   "outputs": [
    {
     "data": {
      "text/plain": [
       "'Try again Awais'"
      ]
     },
     "execution_count": 89,
     "metadata": {},
     "output_type": "execute_result"
    }
   ],
   "source": [
    "engineer = {\"name\": \"Awais\", \"team\": \"Sustaining\"}\n",
    "f\"Try again {engineer['name']}\""
   ]
  },
  {
   "cell_type": "code",
   "execution_count": 141,
   "metadata": {},
   "outputs": [
    {
     "data": {
      "text/plain": [
       "'Goodbye!'"
      ]
     },
     "execution_count": 141,
     "metadata": {},
     "output_type": "execute_result"
    }
   ],
   "source": [
    "f\"\"\"Goodbye!\"\"\""
   ]
  },
  {
   "cell_type": "code",
   "execution_count": 90,
   "metadata": {},
   "outputs": [
    {
     "data": {
      "text/plain": [
       "\"That's crazy!\""
      ]
     },
     "execution_count": 90,
     "metadata": {},
     "output_type": "execute_result"
    }
   ],
   "source": [
    "f'That\\'s crazy!'"
   ]
  },
  {
   "cell_type": "code",
   "execution_count": 93,
   "metadata": {},
   "outputs": [
    {
     "data": {
      "text/plain": [
       "'Hello, name!'"
      ]
     },
     "execution_count": 93,
     "metadata": {},
     "output_type": "execute_result"
    }
   ],
   "source": [
    "name=\"awais\"\n",
    "f\"Hello, {'name'}!\""
   ]
  },
  {
   "cell_type": "code",
   "execution_count": 94,
   "metadata": {},
   "outputs": [
    {
     "data": {
      "text/plain": [
       "\"Hello, 'Awais'!\""
      ]
     },
     "execution_count": 94,
     "metadata": {},
     "output_type": "execute_result"
    }
   ],
   "source": [
    "name = \"Awais\"\n",
    "f\"Hello, \\'{name}\\'!\""
   ]
  },
  {
   "cell_type": "code",
   "execution_count": 149,
   "metadata": {},
   "outputs": [
    {
     "data": {
      "text/plain": [
       "\"Hello, 'Awais'!\""
      ]
     },
     "execution_count": 149,
     "metadata": {},
     "output_type": "execute_result"
    }
   ],
   "source": [
    "name = \"Awais\"\n",
    "f\"Hello, {name!r}!\""
   ]
  },
  {
   "cell_type": "markdown",
   "metadata": {},
   "source": [
    "**Braces/Curlies.**\n"
   ]
  },
  {
   "cell_type": "code",
   "execution_count": 95,
   "metadata": {},
   "outputs": [
    {
     "data": {
      "text/plain": [
       "'2'"
      ]
     },
     "execution_count": 95,
     "metadata": {},
     "output_type": "execute_result"
    }
   ],
   "source": [
    "f\"{1+1}\""
   ]
  },
  {
   "cell_type": "code",
   "execution_count": 96,
   "metadata": {},
   "outputs": [
    {
     "data": {
      "text/plain": [
       "'{1+1}'"
      ]
     },
     "execution_count": 96,
     "metadata": {},
     "output_type": "execute_result"
    }
   ],
   "source": [
    "f\"{{1+1}}\""
   ]
  },
  {
   "cell_type": "code",
   "execution_count": 97,
   "metadata": {},
   "outputs": [
    {
     "data": {
      "text/plain": [
       "'{2}'"
      ]
     },
     "execution_count": 97,
     "metadata": {},
     "output_type": "execute_result"
    }
   ],
   "source": [
    "f\"{{{1+1}}}\""
   ]
  },
  {
   "cell_type": "markdown",
   "metadata": {},
   "source": [
    "## 4) Template Strings"
   ]
  },
  {
   "cell_type": "markdown",
   "metadata": {},
   "source": [
    "* Similar to the way JavaScript does template literals.\n",
    "* Must import Template class from Python's built-in string module."
   ]
  },
  {
   "cell_type": "markdown",
   "metadata": {},
   "source": [
    "👍Why it CAN be good?"
   ]
  },
  {
   "cell_type": "markdown",
   "metadata": {},
   "source": [
    "Use case to prevent security vulnerabilities: formatted strings supplied from user."
   ]
  },
  {
   "cell_type": "code",
   "execution_count": 100,
   "metadata": {},
   "outputs": [
    {
     "ename": "ValueError",
     "evalue": "Invalid placeholder in string: line 1, col 4",
     "output_type": "error",
     "traceback": [
      "\u001b[0;31m---------------------------------------------------------------------------\u001b[0m",
      "\u001b[0;31mValueError\u001b[0m                                Traceback (most recent call last)",
      "\u001b[0;32m<ipython-input-100-31d20b2bb8ef>\u001b[0m in \u001b[0;36m<module>\u001b[0;34m\u001b[0m\n\u001b[1;32m     11\u001b[0m \u001b[0;34m\u001b[0m\u001b[0m\n\u001b[1;32m     12\u001b[0m \u001b[0merr\u001b[0m \u001b[0;34m=\u001b[0m \u001b[0mEvent\u001b[0m\u001b[0;34m(\u001b[0m\u001b[0;34m)\u001b[0m\u001b[0;34m\u001b[0m\u001b[0;34m\u001b[0m\u001b[0m\n\u001b[0;32m---> 13\u001b[0;31m \u001b[0mTemplate\u001b[0m\u001b[0;34m(\u001b[0m\u001b[0mmalicious_input\u001b[0m\u001b[0;34m)\u001b[0m\u001b[0;34m.\u001b[0m\u001b[0msubstitute\u001b[0m\u001b[0;34m(\u001b[0m\u001b[0merror\u001b[0m\u001b[0;34m=\u001b[0m\u001b[0msuper_duper_secret_key\u001b[0m\u001b[0;34m)\u001b[0m\u001b[0;34m\u001b[0m\u001b[0;34m\u001b[0m\u001b[0m\n\u001b[0m\u001b[1;32m     14\u001b[0m \u001b[0;34m\u001b[0m\u001b[0m\n",
      "\u001b[0;32m/Library/Frameworks/Python.framework/Versions/3.8/lib/python3.8/string.py\u001b[0m in \u001b[0;36msubstitute\u001b[0;34m(self, mapping, **kws)\u001b[0m\n\u001b[1;32m    124\u001b[0m             raise ValueError('Unrecognized named group in pattern',\n\u001b[1;32m    125\u001b[0m                              self.pattern)\n\u001b[0;32m--> 126\u001b[0;31m         \u001b[0;32mreturn\u001b[0m \u001b[0mself\u001b[0m\u001b[0;34m.\u001b[0m\u001b[0mpattern\u001b[0m\u001b[0;34m.\u001b[0m\u001b[0msub\u001b[0m\u001b[0;34m(\u001b[0m\u001b[0mconvert\u001b[0m\u001b[0;34m,\u001b[0m \u001b[0mself\u001b[0m\u001b[0;34m.\u001b[0m\u001b[0mtemplate\u001b[0m\u001b[0;34m)\u001b[0m\u001b[0;34m\u001b[0m\u001b[0;34m\u001b[0m\u001b[0m\n\u001b[0m\u001b[1;32m    127\u001b[0m \u001b[0;34m\u001b[0m\u001b[0m\n\u001b[1;32m    128\u001b[0m     \u001b[0;32mdef\u001b[0m \u001b[0msafe_substitute\u001b[0m\u001b[0;34m(\u001b[0m\u001b[0mself\u001b[0m\u001b[0;34m,\u001b[0m \u001b[0mmapping\u001b[0m\u001b[0;34m=\u001b[0m\u001b[0m_sentinel_dict\u001b[0m\u001b[0;34m,\u001b[0m \u001b[0;34m/\u001b[0m\u001b[0;34m,\u001b[0m \u001b[0;34m**\u001b[0m\u001b[0mkws\u001b[0m\u001b[0;34m)\u001b[0m\u001b[0;34m:\u001b[0m\u001b[0;34m\u001b[0m\u001b[0;34m\u001b[0m\u001b[0m\n",
      "\u001b[0;32m/Library/Frameworks/Python.framework/Versions/3.8/lib/python3.8/string.py\u001b[0m in \u001b[0;36mconvert\u001b[0;34m(mo)\u001b[0m\n\u001b[1;32m    121\u001b[0m                 \u001b[0;32mreturn\u001b[0m \u001b[0mself\u001b[0m\u001b[0;34m.\u001b[0m\u001b[0mdelimiter\u001b[0m\u001b[0;34m\u001b[0m\u001b[0;34m\u001b[0m\u001b[0m\n\u001b[1;32m    122\u001b[0m             \u001b[0;32mif\u001b[0m \u001b[0mmo\u001b[0m\u001b[0;34m.\u001b[0m\u001b[0mgroup\u001b[0m\u001b[0;34m(\u001b[0m\u001b[0;34m'invalid'\u001b[0m\u001b[0;34m)\u001b[0m \u001b[0;32mis\u001b[0m \u001b[0;32mnot\u001b[0m \u001b[0;32mNone\u001b[0m\u001b[0;34m:\u001b[0m\u001b[0;34m\u001b[0m\u001b[0;34m\u001b[0m\u001b[0m\n\u001b[0;32m--> 123\u001b[0;31m                 \u001b[0mself\u001b[0m\u001b[0;34m.\u001b[0m\u001b[0m_invalid\u001b[0m\u001b[0;34m(\u001b[0m\u001b[0mmo\u001b[0m\u001b[0;34m)\u001b[0m\u001b[0;34m\u001b[0m\u001b[0;34m\u001b[0m\u001b[0m\n\u001b[0m\u001b[1;32m    124\u001b[0m             raise ValueError('Unrecognized named group in pattern',\n\u001b[1;32m    125\u001b[0m                              self.pattern)\n",
      "\u001b[0;32m/Library/Frameworks/Python.framework/Versions/3.8/lib/python3.8/string.py\u001b[0m in \u001b[0;36m_invalid\u001b[0;34m(self, mo)\u001b[0m\n\u001b[1;32m    104\u001b[0m             \u001b[0mcolno\u001b[0m \u001b[0;34m=\u001b[0m \u001b[0mi\u001b[0m \u001b[0;34m-\u001b[0m \u001b[0mlen\u001b[0m\u001b[0;34m(\u001b[0m\u001b[0;34m''\u001b[0m\u001b[0;34m.\u001b[0m\u001b[0mjoin\u001b[0m\u001b[0;34m(\u001b[0m\u001b[0mlines\u001b[0m\u001b[0;34m[\u001b[0m\u001b[0;34m:\u001b[0m\u001b[0;34m-\u001b[0m\u001b[0;36m1\u001b[0m\u001b[0;34m]\u001b[0m\u001b[0;34m)\u001b[0m\u001b[0;34m)\u001b[0m\u001b[0;34m\u001b[0m\u001b[0;34m\u001b[0m\u001b[0m\n\u001b[1;32m    105\u001b[0m             \u001b[0mlineno\u001b[0m \u001b[0;34m=\u001b[0m \u001b[0mlen\u001b[0m\u001b[0;34m(\u001b[0m\u001b[0mlines\u001b[0m\u001b[0;34m)\u001b[0m\u001b[0;34m\u001b[0m\u001b[0;34m\u001b[0m\u001b[0m\n\u001b[0;32m--> 106\u001b[0;31m         raise ValueError('Invalid placeholder in string: line %d, col %d' %\n\u001b[0m\u001b[1;32m    107\u001b[0m                          (lineno, colno))\n\u001b[1;32m    108\u001b[0m \u001b[0;34m\u001b[0m\u001b[0m\n",
      "\u001b[0;31mValueError\u001b[0m: Invalid placeholder in string: line 1, col 4"
     ]
    }
   ],
   "source": [
    "from string import Template\n",
    "\n",
    "super_duper_secret_key = \"supercalifragilisticexpialidocious\"\n",
    "\n",
    "class Event(object):\n",
    "  def __init__(self):\n",
    "    pass\n",
    "\n",
    "# read data from global namespace\n",
    "malicious_input = 'ab ${event.__init__.__globals__}'\n",
    "\n",
    "err = Event()\n",
    "Template(malicious_input).substitute(error=super_duper_secret_key)\n",
    "\n"
   ]
  },
  {
   "cell_type": "markdown",
   "metadata": {},
   "source": [
    "**How to know when to use what?**\n",
    "\n",
    "Pre-Python 3.6?\n",
    "* Logs: %-formatting\n",
    "* Otherwise: %-formatting or .format()\n",
    "    \n",
    "Post-Python 3.6?\n",
    "\n",
    "* If string is not supplied by user: f-string\n",
    "\n",
    "* String is from user input: template strings\n",
    "\n",
    "Great flowchart: https://files.realpython.com/media/python-string-formatting-flowchart.4ecf0148fd87.png\n",
    "\n",
    "🤓Links and resources:\n",
    "\n",
    "Python docs on string built-in methods https://docs.python.org/2/library/stdtypes.html#string-methods\n",
    "\n",
    "Python docs on format strings https://docs.python.org/3/library/string.html#formatstrings\n",
    "\n",
    "Python docs on f-strings https://docs.python.org/3/reference/lexical_analysis.html#f-strings\n",
    "\n",
    "Timeit https://docs.python.org/2/library/timeit.html\n",
    "\n",
    "Stackoverflow about logging https://stackoverflow.com/questions/5082452/string-formatting-vs-format\n",
    "\n",
    "More info on old vs. new https://pyformat.info/\n",
    "\n",
    "https://realpython.com/python-string-formatting/\n",
    "\n"
   ]
  },
  {
   "cell_type": "code",
   "execution_count": null,
   "metadata": {},
   "outputs": [],
   "source": []
  }
 ],
 "metadata": {
  "kernelspec": {
   "display_name": "Python 3",
   "language": "python",
   "name": "python3"
  },
  "language_info": {
   "codemirror_mode": {
    "name": "ipython",
    "version": 3
   },
   "file_extension": ".py",
   "mimetype": "text/x-python",
   "name": "python",
   "nbconvert_exporter": "python",
   "pygments_lexer": "ipython3",
   "version": "3.8.1"
  }
 },
 "nbformat": 4,
 "nbformat_minor": 4
}
